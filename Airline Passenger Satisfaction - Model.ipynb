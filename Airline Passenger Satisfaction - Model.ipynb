{
 "cells": [
  {
   "cell_type": "markdown",
   "id": "limited-optimization",
   "metadata": {},
   "source": [
    "# Airline Passenger Satisfaction - Model"
   ]
  },
  {
   "cell_type": "markdown",
   "id": "completed-laptop",
   "metadata": {},
   "source": [
    "### Ad 1. Split data"
   ]
  },
  {
   "cell_type": "markdown",
   "id": "opposed-request",
   "metadata": {},
   "source": [
    "#### Algorithm"
   ]
  },
  {
   "cell_type": "code",
   "execution_count": 1,
   "id": "medieval-kernel",
   "metadata": {},
   "outputs": [],
   "source": [
    "from numpy.random import RandomState\n",
    "import pandas as pd\n",
    "import numpy as np"
   ]
  },
  {
   "cell_type": "code",
   "execution_count": 19,
   "id": "asian-excitement",
   "metadata": {},
   "outputs": [],
   "source": [
    "class Splitter:\n",
    "    \n",
    "    def __init__(self, fileName):\n",
    "        self.__df = pd.read_csv(fileName, sep=',')\n",
    "        self.__df.drop(columns=['ind'])\n",
    "        self.__train = self.__df.sample(frac=0.8, random_state=RandomState())\n",
    "        \n",
    "    def train_data(self):\n",
    "        return np.array(self.__train, dtype=np.float64)\n",
    "    \n",
    "    def test_data(self):\n",
    "        return np.array(self.__df.loc[~self.__df.index.isin(self.__train.index)], dtype=np.float64)\n",
    "    \n",
    "    def train_X_data(self):\n",
    "        tmp_df = self.__train\n",
    "        return np.array(tmp_df.drop(columns=['satisfaction']), dtype=np.float64)\n",
    "    \n",
    "    def train_Y_data(self):\n",
    "        return np.array(self.__train['satisfaction'], dtype=np.float64)\n",
    "    \n",
    "    def test_X_data(self):\n",
    "        tmp_df = self.__df.loc[~self.__df.index.isin(self.__train.index)]\n",
    "        return np.array(tmp_df.drop(columns=['satisfaction']), dtype=np.float64)\n",
    "    \n",
    "    def test_Y_data(self):\n",
    "        return np.array(self.__df.loc[~self.__df.index.isin(self.__train.index)]['satisfaction'], dtype=np.float64)"
   ]
  },
  {
   "cell_type": "code",
   "execution_count": 22,
   "id": "unexpected-anniversary",
   "metadata": {},
   "outputs": [],
   "source": [
    "sp = Splitter('finalDataset.csv')\n",
    "train_shape = sp.train_data().shape\n",
    "test_shape =sp.test_data().shape"
   ]
  },
  {
   "cell_type": "markdown",
   "id": "decent-tuning",
   "metadata": {},
   "source": [
    "#### Result of split"
   ]
  },
  {
   "cell_type": "code",
   "execution_count": 23,
   "id": "seeing-length",
   "metadata": {},
   "outputs": [
    {
     "name": "stdout",
     "output_type": "stream",
     "text": [
      "> Train data percent: 80.0, and test data percent: 20.0\n"
     ]
    }
   ],
   "source": [
    "total = train_shape[0] + test_shape[0]\n",
    "print('> Train data percent: ' + str(train_shape[0]/total * 100) + ', and test data percent: ' + str(test_shape[0]/total * 100))"
   ]
  },
  {
   "cell_type": "markdown",
   "id": "grand-bidder",
   "metadata": {},
   "source": [
    "### Ad 2. Classificators"
   ]
  },
  {
   "cell_type": "code",
   "execution_count": 40,
   "id": "forty-draft",
   "metadata": {},
   "outputs": [],
   "source": [
    "from sklearn.svm import SVC\n",
    "from sklearn.tree import DecisionTreeClassifier\n",
    "from sklearn.discriminant_analysis import QuadraticDiscriminantAnalysis\n",
    "from sklearn.ensemble import GradientBoostingClassifier"
   ]
  },
  {
   "cell_type": "markdown",
   "id": "composite-habitat",
   "metadata": {},
   "source": [
    "#### 2.1. SVC"
   ]
  },
  {
   "cell_type": "code",
   "execution_count": 36,
   "id": "speaking-remove",
   "metadata": {},
   "outputs": [
    {
     "data": {
      "text/plain": [
       "0.5703726516784724"
      ]
     },
     "execution_count": 36,
     "metadata": {},
     "output_type": "execute_result"
    }
   ],
   "source": [
    "clf = SVC()\n",
    "clf.fit(sp.train_X_data(), sp.train_Y_data())\n",
    "clf.score(sp.test_X_data(), sp.test_Y_data())"
   ]
  },
  {
   "cell_type": "markdown",
   "id": "given-barrel",
   "metadata": {},
   "source": [
    "#### 2.2. DecisionTreeClassifier"
   ]
  },
  {
   "cell_type": "code",
   "execution_count": 37,
   "id": "technical-freight",
   "metadata": {},
   "outputs": [
    {
     "data": {
      "text/plain": [
       "0.9371342777948876"
      ]
     },
     "execution_count": 37,
     "metadata": {},
     "output_type": "execute_result"
    }
   ],
   "source": [
    "clf2 = DecisionTreeClassifier()\n",
    "clf2.fit(sp.train_X_data(), sp.train_Y_data())\n",
    "clf2.score(sp.test_X_data(), sp.test_Y_data())"
   ]
  },
  {
   "cell_type": "markdown",
   "id": "baking-international",
   "metadata": {},
   "source": [
    "#### 2.3. QuadraticDiscriminantAnalysis"
   ]
  },
  {
   "cell_type": "code",
   "execution_count": 38,
   "id": "furnished-noise",
   "metadata": {},
   "outputs": [
    {
     "data": {
      "text/plain": [
       "0.860409608869726"
      ]
     },
     "execution_count": 38,
     "metadata": {},
     "output_type": "execute_result"
    }
   ],
   "source": [
    "clf3 = QuadraticDiscriminantAnalysis()\n",
    "clf3.fit(sp.train_X_data(), sp.train_Y_data())\n",
    "clf3.score(sp.test_X_data(), sp.test_Y_data())"
   ]
  },
  {
   "cell_type": "markdown",
   "id": "three-defense",
   "metadata": {},
   "source": [
    "#### 2.4. QuadraticDiscriminantAnalysis"
   ]
  },
  {
   "cell_type": "code",
   "execution_count": 41,
   "id": "divided-journalism",
   "metadata": {},
   "outputs": [
    {
     "data": {
      "text/plain": [
       "0.9409839852171235"
      ]
     },
     "execution_count": 41,
     "metadata": {},
     "output_type": "execute_result"
    }
   ],
   "source": [
    "clf4 = GradientBoostingClassifier()\n",
    "clf4.fit(sp.train_X_data(), sp.train_Y_data())\n",
    "clf4.score(sp.test_X_data(), sp.test_Y_data())"
   ]
  }
 ],
 "metadata": {
  "kernelspec": {
   "display_name": "Python 3",
   "language": "python",
   "name": "python3"
  },
  "language_info": {
   "codemirror_mode": {
    "name": "ipython",
    "version": 3
   },
   "file_extension": ".py",
   "mimetype": "text/x-python",
   "name": "python",
   "nbconvert_exporter": "python",
   "pygments_lexer": "ipython3",
   "version": "3.8.8"
  }
 },
 "nbformat": 4,
 "nbformat_minor": 5
}
