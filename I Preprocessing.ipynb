{
 "cells": [
  {
   "cell_type": "markdown",
   "metadata": {
    "collapsed": true,
    "pycharm": {
     "name": "#%% md\n"
    }
   },
   "source": [
    "## Airline Passenger Satisfaction - Data vizualization"
   ]
  },
  {
   "cell_type": "markdown",
   "metadata": {
    "pycharm": {
     "name": "#%% md\n"
    }
   },
   "source": [
    "Wczytanie pliku testowego oraz trenowanego"
   ]
  },
  {
   "cell_type": "code",
   "execution_count": 5,
   "metadata": {
    "pycharm": {
     "name": "#%%\n"
    }
   },
   "outputs": [],
   "source": [
    "import pandas as pd\n",
    "\n",
    "df_train = pd.read_csv('finalDataset2/train.csv')\n",
    "df_test = pd.read_csv('finalDataset2/test.csv')"
   ]
  },
  {
   "cell_type": "markdown",
   "metadata": {
    "pycharm": {
     "name": "#%% md\n"
    }
   },
   "source": [
    "Informacja o brakujących danych w zbiorach"
   ]
  },
  {
   "cell_type": "code",
   "execution_count": 6,
   "outputs": [
    {
     "name": "stdout",
     "output_type": "stream",
     "text": [
      "Zbiór trenowany:\n",
      "id                                   416\n",
      "Customer Type                        416\n",
      "Age                                  416\n",
      "Type of Travel                       416\n",
      "Class                                416\n",
      "Flight Distance                      416\n",
      "Inflight wifi service                416\n",
      "Departure/Arrival time convenient    416\n",
      "Ease of Online booking               416\n",
      "Gate location                        416\n",
      "Food and drink                       416\n",
      "Online boarding                      416\n",
      "Seat comfort                         416\n",
      "Inflight entertainment               416\n",
      "On-board service                     416\n",
      "Leg room service                     416\n",
      "Baggage handling                     416\n",
      "Checkin service                      416\n",
      "Inflight service                     416\n",
      "Cleanliness                          416\n",
      "Departure Delay in Minutes           416\n",
      "Arrival Delay in Minutes             723\n",
      "satisfaction                         416\n",
      "Male                                 416\n",
      "Female                               416\n",
      "dtype: int64\n",
      "\n",
      "Zbiór testowy:\n",
      "id                                   104\n",
      "Customer Type                        104\n",
      "Age                                  104\n",
      "Type of Travel                       104\n",
      "Class                                104\n",
      "Flight Distance                      104\n",
      "Inflight wifi service                104\n",
      "Departure/Arrival time convenient    104\n",
      "Ease of Online booking               104\n",
      "Gate location                        104\n",
      "Food and drink                       104\n",
      "Online boarding                      104\n",
      "Seat comfort                         104\n",
      "Inflight entertainment               104\n",
      "On-board service                     104\n",
      "Leg room service                     104\n",
      "Baggage handling                     104\n",
      "Checkin service                      104\n",
      "Inflight service                     104\n",
      "Cleanliness                          104\n",
      "Departure Delay in Minutes           104\n",
      "Arrival Delay in Minutes             187\n",
      "satisfaction                         104\n",
      "Male                                 104\n",
      "Female                               104\n",
      "dtype: int64\n"
     ]
    }
   ],
   "source": [
    "print('Zbiór trenowany:')\n",
    "print(df_train.isnull().sum())\n",
    "print()\n",
    "print('Zbiór testowy:')\n",
    "print(df_test.isnull().sum())"
   ],
   "metadata": {
    "collapsed": false,
    "pycharm": {
     "name": "#%%\n"
    }
   }
  }
 ],
 "metadata": {
  "kernelspec": {
   "display_name": "Python 3",
   "language": "python",
   "name": "python3"
  },
  "language_info": {
   "codemirror_mode": {
    "name": "ipython",
    "version": 2
   },
   "file_extension": ".py",
   "mimetype": "text/x-python",
   "name": "python",
   "nbconvert_exporter": "python",
   "pygments_lexer": "ipython2",
   "version": "2.7.6"
  }
 },
 "nbformat": 4,
 "nbformat_minor": 1
}