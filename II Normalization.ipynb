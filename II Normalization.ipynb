{
 "cells": [
  {
   "cell_type": "markdown",
   "metadata": {
    "collapsed": true,
    "pycharm": {
     "name": "#%% md\n"
    }
   },
   "source": [
    "# Airline Passenger Satisfaction - Scalling\n",
    "\n",
    "To-do list:\n",
    "- skalowanie danych (min-max + std scaler) - ręcznie ze wzoru\n",
    "- porównanie kilku histogramów przed oraz po sklowaniu obiema metodami, komentarz w notebooku\n",
    "- komentarz do poedjemowanych działań\n",
    "- napisać dokładnie co będzie przedmiotem predykcji"
   ]
  },
  {
   "cell_type": "markdown",
   "source": [
    "### Imports"
   ],
   "metadata": {
    "collapsed": false,
    "pycharm": {
     "name": "#%% md\n"
    }
   }
  },
  {
   "cell_type": "code",
   "execution_count": 37,
   "outputs": [],
   "source": [
    "import pandas as pd\n",
    "import numpy as np\n",
    "import sys"
   ],
   "metadata": {
    "collapsed": false,
    "pycharm": {
     "name": "#%%\n"
    }
   }
  },
  {
   "cell_type": "markdown",
   "source": [
    "### Min-max Scaller"
   ],
   "metadata": {
    "collapsed": false,
    "pycharm": {
     "name": "#%% md\n"
    }
   }
  },
  {
   "cell_type": "code",
   "execution_count": 38,
   "outputs": [],
   "source": [
    "def min_max_scaller(data):\n",
    "    new_data = data.to_numpy()\n",
    "    mini = np.min(new_data)\n",
    "    new_min = np.min(new_data)\n",
    "    maxi = np.max(new_data)\n",
    "    new_max = np.max(new_data)\n",
    "    result_data = []\n",
    "    total_rows = np.shape(new_data)[0]\n",
    "\n",
    "    for ind, row in enumerate(new_data):\n",
    "        result_data.append((row - mini)/(maxi - mini) * (new_max - new_min) + new_min)\n",
    "        new_data = np.delete(new_data, (0), axis=0)\n",
    "        new_min = np.min(new_data)\n",
    "        new_max = np.max(new_data)\n",
    "\n",
    "    return result_data"
   ],
   "metadata": {
    "collapsed": false,
    "pycharm": {
     "name": "#%%\n"
    }
   }
  },
  {
   "cell_type": "markdown",
   "source": [
    "### Std scaller"
   ],
   "metadata": {
    "collapsed": false,
    "pycharm": {
     "name": "#%% md\n"
    }
   }
  },
  {
   "cell_type": "code",
   "execution_count": 39,
   "outputs": [],
   "source": [
    "def std_scaller(data):\n",
    "    mean = data.mean()\n",
    "    std = data.std()\n",
    "\n",
    "    return (data - mean)/std"
   ],
   "metadata": {
    "collapsed": false,
    "pycharm": {
     "name": "#%%\n"
    }
   }
  },
  {
   "cell_type": "code",
   "execution_count": 40,
   "outputs": [
    {
     "name": "stdout",
     "output_type": "stream",
     "text": [
      "Completed rows: 129191/129880"
     ]
    },
    {
     "name": "stderr",
     "output_type": "stream",
     "text": [
      "IOPub message rate exceeded.\n",
      "The notebook server will temporarily stop sending output\n",
      "to the client in order to avoid crashing it.\n",
      "To change this limit, set the config variable\n",
      "`--NotebookApp.iopub_msg_rate_limit`.\n",
      "\n",
      "Current values:\n",
      "NotebookApp.iopub_msg_rate_limit=1000.0 (msgs/sec)\n",
      "NotebookApp.rate_limit_window=3.0 (secs)\n",
      "\n",
      "IOPub message rate exceeded.\n",
      "The notebook server will temporarily stop sending output\n",
      "to the client in order to avoid crashing it.\n",
      "To change this limit, set the config variable\n",
      "`--NotebookApp.iopub_msg_rate_limit`.\n",
      "\n",
      "Current values:\n",
      "NotebookApp.iopub_msg_rate_limit=1000.0 (msgs/sec)\n",
      "NotebookApp.rate_limit_window=3.0 (secs)\n",
      "\n"
     ]
    }
   ],
   "source": [
    "# file loading\n",
    "train = pd.read_csv('finalDataset2/train.csv')\n",
    "test = pd.read_csv('finalDataset2/test.csv')\n",
    "data = pd.concat([test.assign(ind=\"test\"), train.assign(ind=\"train\")])\n",
    "\n",
    "# temporary drop of column\n",
    "tmp_df = data['ind']\n",
    "data = data.drop(['ind'], axis=1)\n",
    "\n",
    "minMaxData = pd.DataFrame(min_max_scaller(data), columns=train.columns)\n",
    "stdData = std_scaller(data)\n",
    "\n",
    "#return column\n",
    "data['ind'] = tmp_df\n",
    "minMaxData['ind'] = tmp_df\n",
    "stdData['ind'] = tmp_df"
   ],
   "metadata": {
    "collapsed": false,
    "pycharm": {
     "name": "#%%\n"
    }
   }
  }
 ],
 "metadata": {
  "kernelspec": {
   "display_name": "Python 3",
   "language": "python",
   "name": "python3"
  },
  "language_info": {
   "codemirror_mode": {
    "name": "ipython",
    "version": 2
   },
   "file_extension": ".py",
   "mimetype": "text/x-python",
   "name": "python",
   "nbconvert_exporter": "python",
   "pygments_lexer": "ipython2",
   "version": "2.7.6"
  }
 },
 "nbformat": 4,
 "nbformat_minor": 0
}